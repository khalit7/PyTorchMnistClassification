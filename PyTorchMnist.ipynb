{
  "nbformat": 4,
  "nbformat_minor": 0,
  "metadata": {
    "colab": {
      "name": "PyTorchMnist.ipynb",
      "provenance": [],
      "collapsed_sections": [],
      "authorship_tag": "ABX9TyMBm2naEPBNIa1fg4KEPxwT",
      "include_colab_link": true
    },
    "kernelspec": {
      "name": "python3",
      "display_name": "Python 3"
    },
    "language_info": {
      "name": "python"
    }
  },
  "cells": [
    {
      "cell_type": "markdown",
      "metadata": {
        "id": "view-in-github",
        "colab_type": "text"
      },
      "source": [
        "<a href=\"https://colab.research.google.com/github/khalit7/PyTorchMnistClassification/blob/main/PyTorchMnist.ipynb\" target=\"_parent\"><img src=\"https://colab.research.google.com/assets/colab-badge.svg\" alt=\"Open In Colab\"/></a>"
      ]
    },
    {
      "cell_type": "code",
      "metadata": {
        "colab": {
          "base_uri": "https://localhost:8080/"
        },
        "id": "VDUXRQHL5THg",
        "outputId": "086d3baf-2174-4869-c983-13946f0dd0ca"
      },
      "source": [
        "!pip install hiddenlayer\n",
        "\n"
      ],
      "execution_count": 42,
      "outputs": [
        {
          "output_type": "stream",
          "name": "stdout",
          "text": [
            "Requirement already satisfied: hiddenlayer in /usr/local/lib/python3.7/dist-packages (0.3)\n"
          ]
        }
      ]
    },
    {
      "cell_type": "code",
      "metadata": {
        "colab": {
          "base_uri": "https://localhost:8080/"
        },
        "id": "03eNLfuhq9Bi",
        "outputId": "a8a632ea-7b23-4ce7-d838-fbbec3d81808"
      },
      "source": [
        "!pip install torchsummary"
      ],
      "execution_count": 43,
      "outputs": [
        {
          "output_type": "stream",
          "name": "stdout",
          "text": [
            "Requirement already satisfied: torchsummary in /usr/local/lib/python3.7/dist-packages (1.5.1)\n"
          ]
        }
      ]
    },
    {
      "cell_type": "code",
      "metadata": {
        "id": "A85QdA0i_tZx"
      },
      "source": [
        "import torch\n",
        "import torchvision\n",
        "import torch\n",
        "import torchvision.transforms as transforms\n",
        "\n",
        "import torch.nn as nn\n",
        "import torch.nn.functional as F\n",
        "import torch.optim as optim\n",
        "\n",
        "import hiddenlayer as hl\n",
        "from torchsummary import summary\n",
        "from IPython.display import Image\n",
        "\n",
        "import matplotlib.pyplot as plt\n",
        "\n",
        "import sys\n"
      ],
      "execution_count": 44,
      "outputs": []
    },
    {
      "cell_type": "code",
      "metadata": {
        "colab": {
          "base_uri": "https://localhost:8080/"
        },
        "id": "bUH778Or6KUz",
        "outputId": "0bc5491b-1e07-490c-84c5-8edd74623194"
      },
      "source": [
        "\n",
        "batch_size = 32\n",
        "n_epochs = 50\n",
        "\n",
        "random_seed = 1\n",
        "torch.backends.cudnn.enabled = False\n",
        "torch.manual_seed(random_seed)"
      ],
      "execution_count": 45,
      "outputs": [
        {
          "output_type": "execute_result",
          "data": {
            "text/plain": [
              "<torch._C.Generator at 0x7f15c35599f0>"
            ]
          },
          "metadata": {},
          "execution_count": 45
        }
      ]
    },
    {
      "cell_type": "code",
      "metadata": {
        "id": "pcFDk_JI6LQA"
      },
      "source": [
        "train_set = torchvision.datasets.FashionMNIST (root = \".\", train = True ,\n",
        "download = True , transform = transforms.ToTensor ())\n",
        "test_set = torchvision .datasets. FashionMNIST (root = \".\", train = False ,\n",
        "download = True , transform = transforms.ToTensor ())\n",
        "training_loader = torch.utils.data.DataLoader (train_set , batch_size = batch_size,\n",
        "shuffle = False)\n",
        "test_loader = torch.utils.data.DataLoader (test_set , batch_size = batch_size,\n",
        "shuffle = False)\n"
      ],
      "execution_count": 46,
      "outputs": []
    },
    {
      "cell_type": "markdown",
      "metadata": {
        "id": "r6Um33QNHFGt"
      },
      "source": [
        "Displaying an example of the data\n"
      ]
    },
    {
      "cell_type": "code",
      "metadata": {
        "colab": {
          "base_uri": "https://localhost:8080/",
          "height": 284
        },
        "id": "G19YszKg8L6D",
        "outputId": "69fb1180-b42b-40c8-806d-47d474beb81e"
      },
      "source": [
        "example = enumerate(training_loader)\n",
        "batc_idx , (example_data,example_target) = next(example)\n",
        "example_data.shape\n",
        "fig = plt.figure()\n",
        "for i in range(6):\n",
        "  plt.subplot(2,3,i+1)\n",
        "  plt.tight_layout()\n",
        "  plt.imshow(example_data[i][0], cmap='gray', interpolation='none')\n",
        "  plt.title(\"Ground Truth: {}\".format(example_target[i]))\n",
        "  plt.xticks([])\n",
        "  plt.yticks([])"
      ],
      "execution_count": 47,
      "outputs": [
        {
          "output_type": "display_data",
          "data": {
            "image/png": "[encoded data removed]",
            "text/plain": [
              "<Figure size 432x288 with 6 Axes>"
            ]
          },
          "metadata": {}
        }
      ]
    },
    {
      "cell_type": "markdown",
      "metadata": {
        "id": "YR1u3P2xDDGV"
      },
      "source": [
        "define the training and testing functions"
      ]
    },
    {
      "cell_type": "code",
      "metadata": {
        "id": "bQOX1_eBDNGZ"
      },
      "source": [
        "def train(epoch,model,show_progress=True):\n",
        "  model.train()\n",
        "  train_loss=0\n",
        "  for batch_idx, (data, target) in enumerate(training_loader):\n",
        "    optimizer.zero_grad()\n",
        "    output = model(data)\n",
        "    loss = F.nll_loss(output, target)\n",
        "    loss.backward()\n",
        "    optimizer.step()\n",
        "    train_loss+=loss.item()\n",
        "    # if batch_idx % log_interval == 0:\n",
        "    #   print('Train Epoch: {} [{}/{} ({:.0f}%)]\\tLoss: {:.6f}'.format(\n",
        "    #     epoch, batch_idx * len(data), len(training_loader.dataset),\n",
        "    #     100. * batch_idx / len(training_loader), loss.item()))\n",
        "    #   train_losses.append(loss.item())\n",
        "    #   train_counter.append(\n",
        "    #     (batch_idx*batch_size) + ((epoch-1)*len(training_loader.dataset)))\n",
        "    #   torch.save(model.state_dict(), 'model.pth')\n",
        "    #   torch.save(optimizer.state_dict(), 'optimizer.pth')\n",
        "  train_loss /= len(training_loader)\n",
        "  if show_progress:\n",
        "    print(\" \\t Training Loss: {:.6f}\".format(train_loss))\n",
        "  train_losses.append(train_loss)"
      ],
      "execution_count": 48,
      "outputs": []
    },
    {
      "cell_type": "code",
      "metadata": {
        "id": "nv4QcsmqDN5J"
      },
      "source": [
        "def test(model,show_progress=True):\n",
        "  model.eval()\n",
        "  test_loss = 0\n",
        "  correct = 0\n",
        "  with torch.no_grad():\n",
        "    for data, target in test_loader:\n",
        "      output = model(data)\n",
        "      test_loss += F.nll_loss(output, target, size_average=False).item()\n",
        "      pred = output.data.max(1, keepdim=True)[1]\n",
        "      correct += pred.eq(target.data.view_as(pred)).sum()\n",
        "  test_loss /= len(test_loader.dataset)\n",
        "  test_losses.append(test_loss)\n",
        "  acc = 100. * correct / len(test_loader.dataset)\n",
        "  if show_progress:\n",
        "    print('\\nTest set: Avg. loss: {:.4f}, Accuracy: {}/{} ({:.0f}%)\\n'.format(\n",
        "      test_loss, correct, len(test_loader.dataset),\n",
        "      acc))\n",
        "\n",
        "  return acc"
      ],
      "execution_count": 49,
      "outputs": []
    },
    {
      "cell_type": "markdown",
      "metadata": {
        "id": "7qlwzatW9XW6"
      },
      "source": [
        "#Question2 Task B. as requested in the question, I used the following configurations:\n",
        "\n",
        "1.   archectecture described in the assignment pdf\n",
        "2.   xaviar initialization\n",
        "3.   learning rate of 0.1\n",
        "4.   SGD optimizer.\n",
        "5.   50 epochs\n",
        "\n",
        "\n"
      ]
    },
    {
      "cell_type": "markdown",
      "metadata": {
        "id": "WOsCSEEO936F"
      },
      "source": [
        "## creating the network and initialize parameters"
      ]
    },
    {
      "cell_type": "code",
      "metadata": {
        "id": "Lghx61i7aB8g"
      },
      "source": [
        "class Net(nn.Module):\n",
        "    def __init__(self):\n",
        "        super(Net, self).__init__()\n",
        "        self.conv1 = nn.Conv2d(1, 32, kernel_size=5)\n",
        "        self.conv2 = nn.Conv2d(32, 64, kernel_size=5)\n",
        "        self.fc1 = nn.Linear(1024,256)\n",
        "        self.fc2 = nn.Linear(256,10)\n",
        "\n",
        "        self.initializer_wights()\n",
        "\n",
        "    def forward(self, x):\n",
        "        x = F.relu(F.max_pool2d(self.conv1(x), 2))\n",
        "        x = F.relu(F.max_pool2d(self.conv2(x), 2))\n",
        "        x = x.view(-1, 1024)\n",
        "        x = F.relu(self.fc1(x))\n",
        "        x = self.fc2(x)\n",
        "        return F.log_softmax(x)\n",
        "    \n",
        "    def initializer_wights(self):\n",
        "      for m in self.modules():\n",
        "        if isinstance(m, nn.Conv2d) or isinstance(m,nn.Linear):\n",
        "          nn.init.xavier_normal_(m.weight)"
      ],
      "execution_count": null,
      "outputs": []
    },
    {
      "cell_type": "markdown",
      "metadata": {
        "id": "DTIbyCgqaQLo"
      },
      "source": [
        "## setting the learning rate and the optimizer"
      ]
    },
    {
      "cell_type": "code",
      "metadata": {
        "id": "ZlZzkn6n95jj"
      },
      "source": [
        "learning_rate = 0.1\n",
        "network = Net()\n",
        "optimizer = optim.SGD(network.parameters(), lr=learning_rate)"
      ],
      "execution_count": null,
      "outputs": []
    },
    {
      "cell_type": "markdown",
      "metadata": {
        "id": "ndJQ1IYJB-Mz"
      },
      "source": [
        "## displaying the model's archetecture"
      ]
    },
    {
      "cell_type": "code",
      "metadata": {
        "colab": {
          "base_uri": "https://localhost:8080/",
          "height": 473
        },
        "id": "fUk4i_v--ucU",
        "outputId": "8f8f02de-db2c-4ed5-e65a-b87ca9f63095"
      },
      "source": [
        "summary(network,(1,28,28))\n",
        "transforms = [ hl.transforms.Prune('Constant') ] # Removes Constant nodes from graph.\n",
        "\n",
        "graph = hl.build_graph(network, example_data,transforms = transforms)\n",
        "graph.theme = hl.graph.THEMES['blue'].copy()\n",
        "graph.save('CNN_Model', format='png')\n",
        "Image('CNN_Model.png')"
      ],
      "execution_count": null,
      "outputs": [
        {
          "output_type": "stream",
          "name": "stdout",
          "text": [
            "----------------------------------------------------------------\n",
            "        Layer (type)               Output Shape         Param #\n",
            "================================================================\n",
            "            Conv2d-1           [-1, 32, 24, 24]             832\n",
            "            Conv2d-2             [-1, 64, 8, 8]          51,264\n",
            "            Linear-3                  [-1, 256]         262,400\n",
            "            Linear-4                   [-1, 10]           2,570\n",
            "================================================================\n",
            "Total params: 317,066\n",
            "Trainable params: 317,066\n",
            "Non-trainable params: 0\n",
            "----------------------------------------------------------------\n",
            "Input size (MB): 0.00\n",
            "Forward/backward pass size (MB): 0.17\n",
            "Params size (MB): 1.21\n",
            "Estimated Total Size (MB): 1.39\n",
            "----------------------------------------------------------------\n"
          ]
        },
        {
          "output_type": "stream",
          "name": "stderr",
          "text": [
            "/usr/local/lib/python3.7/dist-packages/ipykernel_launcher.py:18: UserWarning: Implicit dimension choice for log_softmax has been deprecated. Change the call to include dim=X as an argument.\n"
          ]
        },
        {
          "output_type": "execute_result",
          "data": {
            "image/png": "[encoded data removed]",
            "text/plain": [
              "<IPython.core.display.Image object>"
            ]
          },
          "metadata": {},
          "execution_count": 248
        }
      ]
    },
    {
      "cell_type": "markdown",
      "metadata": {
        "id": "lhyhMX5LHWtr"
      },
      "source": [
        "##Training the model"
      ]
    },
    {
      "cell_type": "code",
      "metadata": {
        "colab": {
          "base_uri": "https://localhost:8080/"
        },
        "id": "th9FT2tvK-vz",
        "outputId": "8ac44c21-27e2-4bbe-d60e-11094a9f0cfc"
      },
      "source": [
        "train_losses = []\n",
        "test_losses = []\n",
        "print(\"Training ... \")\n",
        "for epoch in range(1, n_epochs + 1):\n",
        "  print(\"epoch {}/{}----------------------------------------------------------------------\".format(epoch,n_epochs))\n",
        "  train(epoch,network)\n",
        "  test(network)"
      ],
      "execution_count": null,
      "outputs": [
        {
          "output_type": "stream",
          "name": "stderr",
          "text": [
            "/usr/local/lib/python3.7/dist-packages/ipykernel_launcher.py:18: UserWarning: Implicit dimension choice for log_softmax has been deprecated. Change the call to include dim=X as an argument.\n"
          ]
        },
        {
          "output_type": "stream",
          "name": "stdout",
          "text": [
            "Training ... \n",
            "epoch 1/50----------------------------------------------------------------------\n",
            " \t Training Loss: 0.527967\n"
          ]
        },
        {
          "output_type": "stream",
          "name": "stderr",
          "text": [
            "/usr/local/lib/python3.7/dist-packages/torch/nn/_reduction.py:42: UserWarning: size_average and reduce args will be deprecated, please use reduction='sum' instead.\n",
            "  warnings.warn(warning.format(ret))\n"
          ]
        },
        {
          "output_type": "stream",
          "name": "stdout",
          "text": [
            "\n",
            "Test set: Avg. loss: 0.3771, Accuracy: 8635/10000 (86%)\n",
            "\n",
            "epoch 2/50----------------------------------------------------------------------\n",
            " \t Training Loss: 0.327492\n",
            "\n",
            "Test set: Avg. loss: 0.3267, Accuracy: 8832/10000 (88%)\n",
            "\n",
            "epoch 3/50----------------------------------------------------------------------\n",
            " \t Training Loss: 0.283172\n",
            "\n",
            "Test set: Avg. loss: 0.3010, Accuracy: 8929/10000 (89%)\n",
            "\n",
            "epoch 4/50----------------------------------------------------------------------\n",
            " \t Training Loss: 0.254254\n",
            "\n",
            "Test set: Avg. loss: 0.2910, Accuracy: 8957/10000 (90%)\n",
            "\n",
            "epoch 5/50----------------------------------------------------------------------\n",
            " \t Training Loss: 0.231768\n",
            "\n",
            "Test set: Avg. loss: 0.2939, Accuracy: 8968/10000 (90%)\n",
            "\n",
            "epoch 6/50----------------------------------------------------------------------\n",
            " \t Training Loss: 0.211575\n",
            "\n",
            "Test set: Avg. loss: 0.2844, Accuracy: 9011/10000 (90%)\n",
            "\n",
            "epoch 7/50----------------------------------------------------------------------\n",
            " \t Training Loss: 0.193116\n",
            "\n",
            "Test set: Avg. loss: 0.2910, Accuracy: 8995/10000 (90%)\n",
            "\n",
            "epoch 8/50----------------------------------------------------------------------\n",
            " \t Training Loss: 0.175547\n",
            "\n",
            "Test set: Avg. loss: 0.3035, Accuracy: 8988/10000 (90%)\n",
            "\n",
            "epoch 9/50----------------------------------------------------------------------\n",
            " \t Training Loss: 0.158887\n",
            "\n",
            "Test set: Avg. loss: 0.3197, Accuracy: 9011/10000 (90%)\n",
            "\n",
            "epoch 10/50----------------------------------------------------------------------\n",
            " \t Training Loss: 0.145044\n",
            "\n",
            "Test set: Avg. loss: 0.3413, Accuracy: 8983/10000 (90%)\n",
            "\n",
            "epoch 11/50----------------------------------------------------------------------\n",
            " \t Training Loss: 0.134126\n",
            "\n",
            "Test set: Avg. loss: 0.3594, Accuracy: 8955/10000 (90%)\n",
            "\n",
            "epoch 12/50----------------------------------------------------------------------\n",
            " \t Training Loss: 0.123104\n",
            "\n",
            "Test set: Avg. loss: 0.3703, Accuracy: 8962/10000 (90%)\n",
            "\n",
            "epoch 13/50----------------------------------------------------------------------\n",
            " \t Training Loss: 0.113818\n",
            "\n",
            "Test set: Avg. loss: 0.4063, Accuracy: 8947/10000 (89%)\n",
            "\n",
            "epoch 14/50----------------------------------------------------------------------\n",
            " \t Training Loss: 0.108372\n",
            "\n",
            "Test set: Avg. loss: 0.4220, Accuracy: 8949/10000 (89%)\n",
            "\n",
            "epoch 15/50----------------------------------------------------------------------\n",
            " \t Training Loss: 0.100639\n",
            "\n",
            "Test set: Avg. loss: 0.4281, Accuracy: 8959/10000 (90%)\n",
            "\n",
            "epoch 16/50----------------------------------------------------------------------\n",
            " \t Training Loss: 0.098570\n",
            "\n",
            "Test set: Avg. loss: 0.4402, Accuracy: 8929/10000 (89%)\n",
            "\n",
            "epoch 17/50----------------------------------------------------------------------\n",
            " \t Training Loss: 0.086465\n",
            "\n",
            "Test set: Avg. loss: 0.4563, Accuracy: 8964/10000 (90%)\n",
            "\n",
            "epoch 18/50----------------------------------------------------------------------\n",
            " \t Training Loss: 0.081478\n",
            "\n",
            "Test set: Avg. loss: 0.5269, Accuracy: 8948/10000 (89%)\n",
            "\n",
            "epoch 19/50----------------------------------------------------------------------\n",
            " \t Training Loss: 0.077108\n",
            "\n",
            "Test set: Avg. loss: 0.5339, Accuracy: 8988/10000 (90%)\n",
            "\n",
            "epoch 20/50----------------------------------------------------------------------\n",
            " \t Training Loss: 0.079209\n",
            "\n",
            "Test set: Avg. loss: 0.5316, Accuracy: 8974/10000 (90%)\n",
            "\n",
            "epoch 21/50----------------------------------------------------------------------\n",
            " \t Training Loss: 0.068619\n",
            "\n",
            "Test set: Avg. loss: 0.5659, Accuracy: 8960/10000 (90%)\n",
            "\n",
            "epoch 22/50----------------------------------------------------------------------\n",
            " \t Training Loss: 0.071952\n",
            "\n",
            "Test set: Avg. loss: 0.5479, Accuracy: 8942/10000 (89%)\n",
            "\n",
            "epoch 23/50----------------------------------------------------------------------\n",
            " \t Training Loss: 0.068559\n",
            "\n",
            "Test set: Avg. loss: 0.5452, Accuracy: 8940/10000 (89%)\n",
            "\n",
            "epoch 24/50----------------------------------------------------------------------\n",
            " \t Training Loss: 0.070380\n",
            "\n",
            "Test set: Avg. loss: 0.5663, Accuracy: 8921/10000 (89%)\n",
            "\n",
            "epoch 25/50----------------------------------------------------------------------\n",
            " \t Training Loss: 0.066472\n",
            "\n",
            "Test set: Avg. loss: 0.5668, Accuracy: 8989/10000 (90%)\n",
            "\n",
            "epoch 26/50----------------------------------------------------------------------\n",
            " \t Training Loss: 0.059870\n",
            "\n",
            "Test set: Avg. loss: 0.6327, Accuracy: 8937/10000 (89%)\n",
            "\n",
            "epoch 27/50----------------------------------------------------------------------\n",
            " \t Training Loss: 0.053624\n",
            "\n",
            "Test set: Avg. loss: 0.5990, Accuracy: 8970/10000 (90%)\n",
            "\n",
            "epoch 28/50----------------------------------------------------------------------\n",
            " \t Training Loss: 0.056651\n",
            "\n",
            "Test set: Avg. loss: 0.6191, Accuracy: 8984/10000 (90%)\n",
            "\n",
            "epoch 29/50----------------------------------------------------------------------\n",
            " \t Training Loss: 0.053884\n",
            "\n",
            "Test set: Avg. loss: 0.6770, Accuracy: 8946/10000 (89%)\n",
            "\n",
            "epoch 30/50----------------------------------------------------------------------\n",
            " \t Training Loss: 0.054397\n",
            "\n",
            "Test set: Avg. loss: 0.6462, Accuracy: 8997/10000 (90%)\n",
            "\n",
            "epoch 31/50----------------------------------------------------------------------\n",
            " \t Training Loss: 0.052191\n",
            "\n",
            "Test set: Avg. loss: 0.6407, Accuracy: 9016/10000 (90%)\n",
            "\n",
            "epoch 32/50----------------------------------------------------------------------\n",
            " \t Training Loss: 0.048813\n",
            "\n",
            "Test set: Avg. loss: 0.6315, Accuracy: 8926/10000 (89%)\n",
            "\n",
            "epoch 33/50----------------------------------------------------------------------\n",
            " \t Training Loss: 0.049333\n",
            "\n",
            "Test set: Avg. loss: 0.7420, Accuracy: 8893/10000 (89%)\n",
            "\n",
            "epoch 34/50----------------------------------------------------------------------\n",
            " \t Training Loss: 0.052754\n",
            "\n",
            "Test set: Avg. loss: 0.7513, Accuracy: 8911/10000 (89%)\n",
            "\n",
            "epoch 35/50----------------------------------------------------------------------\n",
            " \t Training Loss: 0.050113\n",
            "\n",
            "Test set: Avg. loss: 0.6958, Accuracy: 8984/10000 (90%)\n",
            "\n",
            "epoch 36/50----------------------------------------------------------------------\n",
            " \t Training Loss: 0.043630\n",
            "\n",
            "Test set: Avg. loss: 0.7185, Accuracy: 8979/10000 (90%)\n",
            "\n",
            "epoch 37/50----------------------------------------------------------------------\n",
            " \t Training Loss: 0.045675\n",
            "\n",
            "Test set: Avg. loss: 0.7024, Accuracy: 8989/10000 (90%)\n",
            "\n",
            "epoch 38/50----------------------------------------------------------------------\n",
            " \t Training Loss: 0.040138\n",
            "\n",
            "Test set: Avg. loss: 0.7282, Accuracy: 8983/10000 (90%)\n",
            "\n",
            "epoch 39/50----------------------------------------------------------------------\n",
            " \t Training Loss: 0.037366\n",
            "\n",
            "Test set: Avg. loss: 0.7266, Accuracy: 9007/10000 (90%)\n",
            "\n",
            "epoch 40/50----------------------------------------------------------------------\n",
            " \t Training Loss: 0.040973\n",
            "\n",
            "Test set: Avg. loss: 0.7191, Accuracy: 8997/10000 (90%)\n",
            "\n",
            "epoch 41/50----------------------------------------------------------------------\n",
            " \t Training Loss: 0.037268\n",
            "\n",
            "Test set: Avg. loss: 0.7400, Accuracy: 9009/10000 (90%)\n",
            "\n",
            "epoch 42/50----------------------------------------------------------------------\n",
            " \t Training Loss: 0.038853\n",
            "\n",
            "Test set: Avg. loss: 0.7822, Accuracy: 9005/10000 (90%)\n",
            "\n",
            "epoch 43/50----------------------------------------------------------------------\n",
            " \t Training Loss: 0.044886\n",
            "\n",
            "Test set: Avg. loss: 0.7796, Accuracy: 9001/10000 (90%)\n",
            "\n",
            "epoch 44/50----------------------------------------------------------------------\n",
            " \t Training Loss: 0.041610\n",
            "\n",
            "Test set: Avg. loss: 0.7504, Accuracy: 8952/10000 (90%)\n",
            "\n",
            "epoch 45/50----------------------------------------------------------------------\n",
            " \t Training Loss: 0.045819\n",
            "\n",
            "Test set: Avg. loss: 0.7469, Accuracy: 9022/10000 (90%)\n",
            "\n",
            "epoch 46/50----------------------------------------------------------------------\n",
            " \t Training Loss: 0.040576\n",
            "\n",
            "Test set: Avg. loss: 0.8367, Accuracy: 8983/10000 (90%)\n",
            "\n",
            "epoch 47/50----------------------------------------------------------------------\n",
            " \t Training Loss: 0.035896\n",
            "\n",
            "Test set: Avg. loss: 0.7427, Accuracy: 9005/10000 (90%)\n",
            "\n",
            "epoch 48/50----------------------------------------------------------------------\n",
            " \t Training Loss: 0.035819\n",
            "\n",
            "Test set: Avg. loss: 0.7855, Accuracy: 9001/10000 (90%)\n",
            "\n",
            "epoch 49/50----------------------------------------------------------------------\n",
            " \t Training Loss: 0.028560\n",
            "\n",
            "Test set: Avg. loss: 0.8629, Accuracy: 8984/10000 (90%)\n",
            "\n",
            "epoch 50/50----------------------------------------------------------------------\n",
            " \t Training Loss: 0.042907\n",
            "\n",
            "Test set: Avg. loss: 0.8438, Accuracy: 8987/10000 (90%)\n",
            "\n"
          ]
        }
      ]
    },
    {
      "cell_type": "markdown",
      "metadata": {
        "id": "wUxfSXbhahPn"
      },
      "source": [
        "##plotting training and test loss per epoch"
      ]
    },
    {
      "cell_type": "code",
      "metadata": {
        "colab": {
          "base_uri": "https://localhost:8080/",
          "height": 296
        },
        "id": "LkkrWEWQLAXG",
        "outputId": "15239b1b-b028-447a-9d3a-6a6fda9eb29f"
      },
      "source": [
        "fig = plt.figure()\n",
        "plt.plot(range(1,n_epochs+1), train_losses, color='blue')\n",
        "plt.plot(range(1,n_epochs+1), test_losses, color='red')\n",
        "plt.legend(['Train Loss', 'Test Loss'], loc='upper right')\n",
        "plt.xlabel('number of training examples seen')\n",
        "plt.ylabel('negative log likelihood loss')"
      ],
      "execution_count": null,
      "outputs": [
        {
          "output_type": "execute_result",
          "data": {
            "text/plain": [
              "Text(0, 0.5, 'negative log likelihood loss')"
            ]
          },
          "metadata": {},
          "execution_count": 250
        },
        {
          "output_type": "display_data",
          "data": {
            "image/png": "[encoded data removed]",
            "text/plain": [
              "<Figure size 432x288 with 1 Axes>"
            ]
          },
          "metadata": {
            "needs_background": "light"
          }
        }
      ]
    },
    {
      "cell_type": "markdown",
      "metadata": {
        "id": "GJbbL0Iwan4P"
      },
      "source": [
        "## visualizing some predections on the test set"
      ]
    },
    {
      "cell_type": "code",
      "metadata": {
        "id": "Oze4D4m7L7wU"
      },
      "source": [
        "example = enumerate(test_loader)"
      ],
      "execution_count": null,
      "outputs": []
    },
    {
      "cell_type": "code",
      "metadata": {
        "colab": {
          "base_uri": "https://localhost:8080/",
          "height": 754
        },
        "id": "2yvk3O2WVfzL",
        "outputId": "5d7565b9-17ff-4ac3-bad2-0bf32c781afc"
      },
      "source": [
        "batc_idx , (example_data,example_target) = next(example)\n",
        "with torch.no_grad():\n",
        "  output = network(example_data)\n",
        "\n",
        "fig = plt.figure()\n",
        "fig.set_size_inches(18.5, 10.5)\n",
        "for i in range(32):\n",
        "  plt.subplot(4,8,i+1)\n",
        "  plt.tight_layout()\n",
        "  plt.imshow(example_data[i][0], cmap='gray', interpolation='none')\n",
        "  plt.title(\"Ground Truth: {} \\n Prediction: {}\".format(example_target[i],output.data.max(1, keepdim=True)[1][i].item()))\n",
        "  plt.xticks([])\n",
        "  plt.yticks([])"
      ],
      "execution_count": null,
      "outputs": [
        {
          "output_type": "stream",
          "name": "stderr",
          "text": [
            "/usr/local/lib/python3.7/dist-packages/ipykernel_launcher.py:18: UserWarning: Implicit dimension choice for log_softmax has been deprecated. Change the call to include dim=X as an argument.\n"
          ]
        },
        {
          "output_type": "display_data",
          "data": {
            "image/png": "[encoded data removed]",
            "text/plain": [
              "<Figure size 1332x756 with 32 Axes>"
            ]
          },
          "metadata": {}
        }
      ]
    },
    {
      "cell_type": "markdown",
      "metadata": {
        "id": "l70JNcxUazNx"
      },
      "source": [
        "#Question 2 Task C."
      ]
    },
    {
      "cell_type": "markdown",
      "source": [
        "## creating the network with activation function as a variable to be able to modify it later."
      ],
      "metadata": {
        "id": "zCe6_GIz2XZt"
      }
    },
    {
      "cell_type": "code",
      "source": [
        "class Net(nn.Module):\n",
        "    def __init__(self,act_func):\n",
        "        super(Net, self).__init__()\n",
        "        self.conv1 = nn.Conv2d(1, 32, kernel_size=5)\n",
        "        self.conv2 = nn.Conv2d(32, 64, kernel_size=5)\n",
        "        self.fc1 = nn.Linear(1024,256)\n",
        "        self.fc2 = nn.Linear(256,10)\n",
        "\n",
        "        self.act_func = act_func\n",
        "        self.initializer_wights()\n",
        "\n",
        "    def forward(self, x):\n",
        "        x = self.act_func(F.max_pool2d(self.conv1(x), 2))\n",
        "        x = self.act_func(F.max_pool2d(self.conv2(x), 2))\n",
        "        x = x.view(-1, 1024)\n",
        "        x = self.act_func(self.fc1(x))\n",
        "        x = self.fc2(x)\n",
        "        return F.log_softmax(x)\n",
        "    \n",
        "    def initializer_wights(self):\n",
        "      for m in self.modules():\n",
        "        if isinstance(m, nn.Conv2d) or isinstance(m,nn.Linear):\n",
        "          nn.init.xavier_normal_(m.weight)"
      ],
      "metadata": {
        "id": "mmXWWRsEsbFY"
      },
      "execution_count": 50,
      "outputs": []
    },
    {
      "cell_type": "code",
      "source": [
        "activation_functions = {F.tanh:\"Tanh\",F.sigmoid:\"Sigmoid\",F.elu:\"Elu\"}\n",
        "learning_rate = 0.1\n",
        "results = {}"
      ],
      "metadata": {
        "id": "CkehMECzvpyQ"
      },
      "execution_count": 51,
      "outputs": []
    },
    {
      "cell_type": "markdown",
      "source": [
        "## perform the training for each activation function and log the test accuracy"
      ],
      "metadata": {
        "id": "srjET7822lbv"
      }
    },
    {
      "cell_type": "code",
      "source": [
        "for act_func,act_func_name in activation_functions.items():\n",
        "  network = Net(act_func)\n",
        "  optimizer = optim.SGD(network.parameters(), lr=learning_rate)\n",
        "\n",
        "  train_losses = []\n",
        "  test_losses = []\n",
        "  print(\"Training ... \")\n",
        "  for epoch in range(1, n_epochs + 1):\n",
        "    print(\"activation function -> {} \\n epoch {}/{} ...\".format(act_func_name,epoch,n_epochs))\n",
        "    train(epoch,network,show_progress=False)\n",
        "    test_acc = test(network,show_progress=False)\n",
        "  results[act_func_name] = test_acc"
      ],
      "metadata": {
        "colab": {
          "base_uri": "https://localhost:8080/"
        },
        "id": "XJrokF9ksgDj",
        "outputId": "224b5c8c-79ff-455c-a101-116c317a47af"
      },
      "execution_count": 53,
      "outputs": [
        {
          "output_type": "stream",
          "name": "stdout",
          "text": [
            "Training ... \n",
            "activation function -> Tanh \n",
            " epoch 1/50 ...\n"
          ]
        },
        {
          "output_type": "stream",
          "name": "stderr",
          "text": [
            "/usr/local/lib/python3.7/dist-packages/torch/nn/functional.py:1795: UserWarning: nn.functional.tanh is deprecated. Use torch.tanh instead.\n",
            "  warnings.warn(\"nn.functional.tanh is deprecated. Use torch.tanh instead.\")\n",
            "/usr/local/lib/python3.7/dist-packages/ipykernel_launcher.py:19: UserWarning: Implicit dimension choice for log_softmax has been deprecated. Change the call to include dim=X as an argument.\n",
            "/usr/local/lib/python3.7/dist-packages/torch/nn/_reduction.py:42: UserWarning: size_average and reduce args will be deprecated, please use reduction='sum' instead.\n",
            "  warnings.warn(warning.format(ret))\n"
          ]
        },
        {
          "output_type": "stream",
          "name": "stdout",
          "text": [
            "activation function -> Tanh \n",
            " epoch 2/50 ...\n",
            "activation function -> Tanh \n",
            " epoch 3/50 ...\n",
            "activation function -> Tanh \n",
            " epoch 4/50 ...\n",
            "activation function -> Tanh \n",
            " epoch 5/50 ...\n",
            "activation function -> Tanh \n",
            " epoch 6/50 ...\n",
            "activation function -> Tanh \n",
            " epoch 7/50 ...\n",
            "activation function -> Tanh \n",
            " epoch 8/50 ...\n",
            "activation function -> Tanh \n",
            " epoch 9/50 ...\n",
            "activation function -> Tanh \n",
            " epoch 10/50 ...\n",
            "activation function -> Tanh \n",
            " epoch 11/50 ...\n",
            "activation function -> Tanh \n",
            " epoch 12/50 ...\n",
            "activation function -> Tanh \n",
            " epoch 13/50 ...\n",
            "activation function -> Tanh \n",
            " epoch 14/50 ...\n",
            "activation function -> Tanh \n",
            " epoch 15/50 ...\n",
            "activation function -> Tanh \n",
            " epoch 16/50 ...\n",
            "activation function -> Tanh \n",
            " epoch 17/50 ...\n",
            "activation function -> Tanh \n",
            " epoch 18/50 ...\n",
            "activation function -> Tanh \n",
            " epoch 19/50 ...\n",
            "activation function -> Tanh \n",
            " epoch 20/50 ...\n",
            "activation function -> Tanh \n",
            " epoch 21/50 ...\n",
            "activation function -> Tanh \n",
            " epoch 22/50 ...\n",
            "activation function -> Tanh \n",
            " epoch 23/50 ...\n",
            "activation function -> Tanh \n",
            " epoch 24/50 ...\n",
            "activation function -> Tanh \n",
            " epoch 25/50 ...\n",
            "activation function -> Tanh \n",
            " epoch 26/50 ...\n",
            "activation function -> Tanh \n",
            " epoch 27/50 ...\n",
            "activation function -> Tanh \n",
            " epoch 28/50 ...\n",
            "activation function -> Tanh \n",
            " epoch 29/50 ...\n",
            "activation function -> Tanh \n",
            " epoch 30/50 ...\n",
            "activation function -> Tanh \n",
            " epoch 31/50 ...\n",
            "activation function -> Tanh \n",
            " epoch 32/50 ...\n",
            "activation function -> Tanh \n",
            " epoch 33/50 ...\n",
            "activation function -> Tanh \n",
            " epoch 34/50 ...\n",
            "activation function -> Tanh \n",
            " epoch 35/50 ...\n",
            "activation function -> Tanh \n",
            " epoch 36/50 ...\n",
            "activation function -> Tanh \n",
            " epoch 37/50 ...\n",
            "activation function -> Tanh \n",
            " epoch 38/50 ...\n",
            "activation function -> Tanh \n",
            " epoch 39/50 ...\n",
            "activation function -> Tanh \n",
            " epoch 40/50 ...\n",
            "activation function -> Tanh \n",
            " epoch 41/50 ...\n",
            "activation function -> Tanh \n",
            " epoch 42/50 ...\n",
            "activation function -> Tanh \n",
            " epoch 43/50 ...\n",
            "activation function -> Tanh \n",
            " epoch 44/50 ...\n",
            "activation function -> Tanh \n",
            " epoch 45/50 ...\n",
            "activation function -> Tanh \n",
            " epoch 46/50 ...\n",
            "activation function -> Tanh \n",
            " epoch 47/50 ...\n",
            "activation function -> Tanh \n",
            " epoch 48/50 ...\n",
            "activation function -> Tanh \n",
            " epoch 49/50 ...\n",
            "activation function -> Tanh \n",
            " epoch 50/50 ...\n",
            "Training ... \n",
            "activation function -> Sigmoid \n",
            " epoch 1/50 ...\n"
          ]
        },
        {
          "output_type": "stream",
          "name": "stderr",
          "text": [
            "/usr/local/lib/python3.7/dist-packages/torch/nn/functional.py:1806: UserWarning: nn.functional.sigmoid is deprecated. Use torch.sigmoid instead.\n",
            "  warnings.warn(\"nn.functional.sigmoid is deprecated. Use torch.sigmoid instead.\")\n"
          ]
        },
        {
          "output_type": "stream",
          "name": "stdout",
          "text": [
            "activation function -> Sigmoid \n",
            " epoch 2/50 ...\n",
            "activation function -> Sigmoid \n",
            " epoch 3/50 ...\n",
            "activation function -> Sigmoid \n",
            " epoch 4/50 ...\n",
            "activation function -> Sigmoid \n",
            " epoch 5/50 ...\n",
            "activation function -> Sigmoid \n",
            " epoch 6/50 ...\n",
            "activation function -> Sigmoid \n",
            " epoch 7/50 ...\n",
            "activation function -> Sigmoid \n",
            " epoch 8/50 ...\n",
            "activation function -> Sigmoid \n",
            " epoch 9/50 ...\n",
            "activation function -> Sigmoid \n",
            " epoch 10/50 ...\n",
            "activation function -> Sigmoid \n",
            " epoch 11/50 ...\n",
            "activation function -> Sigmoid \n",
            " epoch 12/50 ...\n",
            "activation function -> Sigmoid \n",
            " epoch 13/50 ...\n",
            "activation function -> Sigmoid \n",
            " epoch 14/50 ...\n",
            "activation function -> Sigmoid \n",
            " epoch 15/50 ...\n",
            "activation function -> Sigmoid \n",
            " epoch 16/50 ...\n",
            "activation function -> Sigmoid \n",
            " epoch 17/50 ...\n",
            "activation function -> Sigmoid \n",
            " epoch 18/50 ...\n",
            "activation function -> Sigmoid \n",
            " epoch 19/50 ...\n",
            "activation function -> Sigmoid \n",
            " epoch 20/50 ...\n",
            "activation function -> Sigmoid \n",
            " epoch 21/50 ...\n",
            "activation function -> Sigmoid \n",
            " epoch 22/50 ...\n",
            "activation function -> Sigmoid \n",
            " epoch 23/50 ...\n",
            "activation function -> Sigmoid \n",
            " epoch 24/50 ...\n",
            "activation function -> Sigmoid \n",
            " epoch 25/50 ...\n",
            "activation function -> Sigmoid \n",
            " epoch 26/50 ...\n",
            "activation function -> Sigmoid \n",
            " epoch 27/50 ...\n",
            "activation function -> Sigmoid \n",
            " epoch 28/50 ...\n",
            "activation function -> Sigmoid \n",
            " epoch 29/50 ...\n",
            "activation function -> Sigmoid \n",
            " epoch 30/50 ...\n",
            "activation function -> Sigmoid \n",
            " epoch 31/50 ...\n",
            "activation function -> Sigmoid \n",
            " epoch 32/50 ...\n",
            "activation function -> Sigmoid \n",
            " epoch 33/50 ...\n",
            "activation function -> Sigmoid \n",
            " epoch 34/50 ...\n",
            "activation function -> Sigmoid \n",
            " epoch 35/50 ...\n",
            "activation function -> Sigmoid \n",
            " epoch 36/50 ...\n",
            "activation function -> Sigmoid \n",
            " epoch 37/50 ...\n",
            "activation function -> Sigmoid \n",
            " epoch 38/50 ...\n",
            "activation function -> Sigmoid \n",
            " epoch 39/50 ...\n",
            "activation function -> Sigmoid \n",
            " epoch 40/50 ...\n",
            "activation function -> Sigmoid \n",
            " epoch 41/50 ...\n",
            "activation function -> Sigmoid \n",
            " epoch 42/50 ...\n",
            "activation function -> Sigmoid \n",
            " epoch 43/50 ...\n",
            "activation function -> Sigmoid \n",
            " epoch 44/50 ...\n",
            "activation function -> Sigmoid \n",
            " epoch 45/50 ...\n",
            "activation function -> Sigmoid \n",
            " epoch 46/50 ...\n",
            "activation function -> Sigmoid \n",
            " epoch 47/50 ...\n",
            "activation function -> Sigmoid \n",
            " epoch 48/50 ...\n",
            "activation function -> Sigmoid \n",
            " epoch 49/50 ...\n",
            "activation function -> Sigmoid \n",
            " epoch 50/50 ...\n",
            "Training ... \n",
            "activation function -> Elu \n",
            " epoch 1/50 ...\n",
            "activation function -> Elu \n",
            " epoch 2/50 ...\n",
            "activation function -> Elu \n",
            " epoch 3/50 ...\n",
            "activation function -> Elu \n",
            " epoch 4/50 ...\n",
            "activation function -> Elu \n",
            " epoch 5/50 ...\n",
            "activation function -> Elu \n",
            " epoch 6/50 ...\n",
            "activation function -> Elu \n",
            " epoch 7/50 ...\n",
            "activation function -> Elu \n",
            " epoch 8/50 ...\n",
            "activation function -> Elu \n",
            " epoch 9/50 ...\n",
            "activation function -> Elu \n",
            " epoch 10/50 ...\n",
            "activation function -> Elu \n",
            " epoch 11/50 ...\n",
            "activation function -> Elu \n",
            " epoch 12/50 ...\n",
            "activation function -> Elu \n",
            " epoch 13/50 ...\n",
            "activation function -> Elu \n",
            " epoch 14/50 ...\n",
            "activation function -> Elu \n",
            " epoch 15/50 ...\n",
            "activation function -> Elu \n",
            " epoch 16/50 ...\n",
            "activation function -> Elu \n",
            " epoch 17/50 ...\n",
            "activation function -> Elu \n",
            " epoch 18/50 ...\n",
            "activation function -> Elu \n",
            " epoch 19/50 ...\n",
            "activation function -> Elu \n",
            " epoch 20/50 ...\n",
            "activation function -> Elu \n",
            " epoch 21/50 ...\n",
            "activation function -> Elu \n",
            " epoch 22/50 ...\n",
            "activation function -> Elu \n",
            " epoch 23/50 ...\n",
            "activation function -> Elu \n",
            " epoch 24/50 ...\n",
            "activation function -> Elu \n",
            " epoch 25/50 ...\n",
            "activation function -> Elu \n",
            " epoch 26/50 ...\n",
            "activation function -> Elu \n",
            " epoch 27/50 ...\n",
            "activation function -> Elu \n",
            " epoch 28/50 ...\n",
            "activation function -> Elu \n",
            " epoch 29/50 ...\n",
            "activation function -> Elu \n",
            " epoch 30/50 ...\n",
            "activation function -> Elu \n",
            " epoch 31/50 ...\n",
            "activation function -> Elu \n",
            " epoch 32/50 ...\n",
            "activation function -> Elu \n",
            " epoch 33/50 ...\n",
            "activation function -> Elu \n",
            " epoch 34/50 ...\n",
            "activation function -> Elu \n",
            " epoch 35/50 ...\n",
            "activation function -> Elu \n",
            " epoch 36/50 ...\n",
            "activation function -> Elu \n",
            " epoch 37/50 ...\n",
            "activation function -> Elu \n",
            " epoch 38/50 ...\n",
            "activation function -> Elu \n",
            " epoch 39/50 ...\n",
            "activation function -> Elu \n",
            " epoch 40/50 ...\n",
            "activation function -> Elu \n",
            " epoch 41/50 ...\n",
            "activation function -> Elu \n",
            " epoch 42/50 ...\n",
            "activation function -> Elu \n",
            " epoch 43/50 ...\n",
            "activation function -> Elu \n",
            " epoch 44/50 ...\n",
            "activation function -> Elu \n",
            " epoch 45/50 ...\n",
            "activation function -> Elu \n",
            " epoch 46/50 ...\n",
            "activation function -> Elu \n",
            " epoch 47/50 ...\n",
            "activation function -> Elu \n",
            " epoch 48/50 ...\n",
            "activation function -> Elu \n",
            " epoch 49/50 ...\n",
            "activation function -> Elu \n",
            " epoch 50/50 ...\n"
          ]
        }
      ]
    },
    {
      "cell_type": "code",
      "source": [
        "print(results)"
      ],
      "metadata": {
        "colab": {
          "base_uri": "https://localhost:8080/"
        },
        "id": "_E5IVBhZzvbz",
        "outputId": "1d989519-6fb7-403e-eaa3-bae402ed289d"
      },
      "execution_count": 54,
      "outputs": [
        {
          "output_type": "stream",
          "name": "stdout",
          "text": [
            "{'Tanh': tensor(91.1700), 'Sigmoid': tensor(90.8500), 'Elu': tensor(90.1900)}\n"
          ]
        }
      ]
    },
    {
      "cell_type": "markdown",
      "source": [
        "## Now we use relu for different learning rates"
      ],
      "metadata": {
        "id": "8fJFtD_w0Hxx"
      }
    },
    {
      "cell_type": "code",
      "source": [
        "learning_rates = [0.001,0.1,0.5,1,10]\n",
        "results = {}"
      ],
      "metadata": {
        "id": "k8XALGZa0T9h"
      },
      "execution_count": 55,
      "outputs": []
    },
    {
      "cell_type": "code",
      "source": [
        "for lr in learning_rates:\n",
        "  network = Net(F.relu)\n",
        "  optimizer = optim.SGD(network.parameters(), lr=lr)\n",
        "\n",
        "  train_losses = []\n",
        "  test_losses = []\n",
        "  print(\"Training ... \")\n",
        "  for epoch in range(1, n_epochs + 1):\n",
        "    print(\"learning rate = {} \\n epoch {}/{} ...\".format(lr,epoch,n_epochs))\n",
        "    train(epoch,network,show_progress=False)\n",
        "    test_acc = test(network,show_progress=False)\n",
        "  results[\"lr = \"+str(lr)] = test_acc"
      ],
      "metadata": {
        "colab": {
          "base_uri": "https://localhost:8080/"
        },
        "id": "iayhv7G802fX",
        "outputId": "a7eed086-d190-4889-be1f-011559112661"
      },
      "execution_count": null,
      "outputs": [
        {
          "metadata": {
            "tags": null
          },
          "name": "stdout",
          "output_type": "stream",
          "text": [
            "Training ... \n",
            "learning rate = 0.001 \n",
            " epoch 1/50 ...\n"
          ]
        },
        {
          "metadata": {
            "tags": null
          },
          "name": "stderr",
          "output_type": "stream",
          "text": [
            "/usr/local/lib/python3.7/dist-packages/ipykernel_launcher.py:19: UserWarning: Implicit dimension choice for log_softmax has been deprecated. Change the call to include dim=X as an argument.\n",
            "/usr/local/lib/python3.7/dist-packages/torch/nn/_reduction.py:42: UserWarning: size_average and reduce args will be deprecated, please use reduction='sum' instead.\n",
            "  warnings.warn(warning.format(ret))\n"
          ]
        },
        {
          "output_type": "stream",
          "name": "stdout",
          "text": [
            "learning rate = 0.001 \n",
            " epoch 2/50 ...\n",
            "learning rate = 0.001 \n",
            " epoch 3/50 ...\n",
            "learning rate = 0.001 \n",
            " epoch 4/50 ...\n",
            "learning rate = 0.001 \n",
            " epoch 5/50 ...\n",
            "learning rate = 0.001 \n",
            " epoch 6/50 ...\n",
            "learning rate = 0.001 \n",
            " epoch 7/50 ...\n",
            "learning rate = 0.001 \n",
            " epoch 8/50 ...\n",
            "learning rate = 0.001 \n",
            " epoch 9/50 ...\n",
            "learning rate = 0.001 \n",
            " epoch 10/50 ...\n",
            "learning rate = 0.001 \n",
            " epoch 11/50 ...\n",
            "learning rate = 0.001 \n",
            " epoch 12/50 ...\n",
            "learning rate = 0.001 \n",
            " epoch 13/50 ...\n",
            "learning rate = 0.001 \n",
            " epoch 14/50 ...\n",
            "learning rate = 0.001 \n",
            " epoch 15/50 ...\n",
            "learning rate = 0.001 \n",
            " epoch 16/50 ...\n",
            "learning rate = 0.001 \n",
            " epoch 17/50 ...\n",
            "learning rate = 0.001 \n",
            " epoch 18/50 ...\n",
            "learning rate = 0.001 \n",
            " epoch 19/50 ...\n",
            "learning rate = 0.001 \n",
            " epoch 20/50 ...\n",
            "learning rate = 0.001 \n",
            " epoch 21/50 ...\n",
            "learning rate = 0.001 \n",
            " epoch 22/50 ...\n",
            "learning rate = 0.001 \n",
            " epoch 23/50 ...\n",
            "learning rate = 0.001 \n",
            " epoch 24/50 ...\n",
            "learning rate = 0.001 \n",
            " epoch 25/50 ...\n",
            "learning rate = 0.001 \n",
            " epoch 26/50 ...\n",
            "learning rate = 0.001 \n",
            " epoch 27/50 ...\n",
            "learning rate = 0.001 \n",
            " epoch 28/50 ...\n",
            "learning rate = 0.001 \n",
            " epoch 29/50 ...\n",
            "learning rate = 0.001 \n",
            " epoch 30/50 ...\n",
            "learning rate = 0.001 \n",
            " epoch 31/50 ...\n",
            "learning rate = 0.001 \n",
            " epoch 32/50 ...\n",
            "learning rate = 0.001 \n",
            " epoch 33/50 ...\n",
            "learning rate = 0.001 \n",
            " epoch 34/50 ...\n",
            "learning rate = 0.001 \n",
            " epoch 35/50 ...\n",
            "learning rate = 0.001 \n",
            " epoch 36/50 ...\n",
            "learning rate = 0.001 \n",
            " epoch 37/50 ...\n",
            "learning rate = 0.001 \n",
            " epoch 38/50 ...\n",
            "learning rate = 0.001 \n",
            " epoch 39/50 ...\n",
            "learning rate = 0.001 \n",
            " epoch 40/50 ...\n",
            "learning rate = 0.001 \n",
            " epoch 41/50 ...\n",
            "learning rate = 0.001 \n",
            " epoch 42/50 ...\n",
            "learning rate = 0.001 \n",
            " epoch 43/50 ...\n",
            "learning rate = 0.001 \n",
            " epoch 44/50 ...\n",
            "learning rate = 0.001 \n",
            " epoch 45/50 ...\n",
            "learning rate = 0.001 \n",
            " epoch 46/50 ...\n",
            "learning rate = 0.001 \n",
            " epoch 47/50 ...\n",
            "learning rate = 0.001 \n",
            " epoch 48/50 ...\n",
            "learning rate = 0.001 \n",
            " epoch 49/50 ...\n",
            "learning rate = 0.001 \n",
            " epoch 50/50 ...\n",
            "Training ... \n",
            "learning rate = 0.1 \n",
            " epoch 1/50 ...\n",
            "learning rate = 0.1 \n",
            " epoch 2/50 ...\n",
            "learning rate = 0.1 \n",
            " epoch 3/50 ...\n",
            "learning rate = 0.1 \n",
            " epoch 4/50 ...\n",
            "learning rate = 0.1 \n",
            " epoch 5/50 ...\n",
            "learning rate = 0.1 \n",
            " epoch 6/50 ...\n",
            "learning rate = 0.1 \n",
            " epoch 7/50 ...\n",
            "learning rate = 0.1 \n",
            " epoch 8/50 ...\n",
            "learning rate = 0.1 \n",
            " epoch 9/50 ...\n",
            "learning rate = 0.1 \n",
            " epoch 10/50 ...\n",
            "learning rate = 0.1 \n",
            " epoch 11/50 ...\n",
            "learning rate = 0.1 \n",
            " epoch 12/50 ...\n",
            "learning rate = 0.1 \n",
            " epoch 13/50 ...\n",
            "learning rate = 0.1 \n",
            " epoch 14/50 ...\n",
            "learning rate = 0.1 \n",
            " epoch 15/50 ...\n",
            "learning rate = 0.1 \n",
            " epoch 16/50 ...\n",
            "learning rate = 0.1 \n",
            " epoch 17/50 ...\n",
            "learning rate = 0.1 \n",
            " epoch 18/50 ...\n",
            "learning rate = 0.1 \n",
            " epoch 19/50 ...\n",
            "learning rate = 0.1 \n",
            " epoch 20/50 ...\n",
            "learning rate = 0.1 \n",
            " epoch 21/50 ...\n",
            "learning rate = 0.1 \n",
            " epoch 22/50 ...\n",
            "learning rate = 0.1 \n",
            " epoch 23/50 ...\n",
            "learning rate = 0.1 \n",
            " epoch 24/50 ...\n",
            "learning rate = 0.1 \n",
            " epoch 25/50 ...\n",
            "learning rate = 0.1 \n",
            " epoch 26/50 ...\n",
            "learning rate = 0.1 \n",
            " epoch 27/50 ...\n",
            "learning rate = 0.1 \n",
            " epoch 28/50 ...\n",
            "learning rate = 0.1 \n",
            " epoch 29/50 ...\n",
            "learning rate = 0.1 \n",
            " epoch 30/50 ...\n",
            "learning rate = 0.1 \n",
            " epoch 31/50 ...\n",
            "learning rate = 0.1 \n",
            " epoch 32/50 ...\n",
            "learning rate = 0.1 \n",
            " epoch 33/50 ...\n",
            "learning rate = 0.1 \n",
            " epoch 34/50 ...\n",
            "learning rate = 0.1 \n",
            " epoch 35/50 ...\n",
            "learning rate = 0.1 \n",
            " epoch 36/50 ...\n",
            "learning rate = 0.1 \n",
            " epoch 37/50 ...\n",
            "learning rate = 0.1 \n",
            " epoch 38/50 ...\n",
            "learning rate = 0.1 \n",
            " epoch 39/50 ...\n",
            "learning rate = 0.1 \n",
            " epoch 40/50 ...\n",
            "learning rate = 0.1 \n",
            " epoch 41/50 ...\n",
            "learning rate = 0.1 \n",
            " epoch 42/50 ...\n",
            "learning rate = 0.1 \n",
            " epoch 43/50 ...\n",
            "learning rate = 0.1 \n",
            " epoch 44/50 ...\n",
            "learning rate = 0.1 \n",
            " epoch 45/50 ...\n",
            "learning rate = 0.1 \n",
            " epoch 46/50 ...\n",
            "learning rate = 0.1 \n",
            " epoch 47/50 ...\n",
            "learning rate = 0.1 \n",
            " epoch 48/50 ...\n",
            "learning rate = 0.1 \n",
            " epoch 49/50 ...\n",
            "learning rate = 0.1 \n",
            " epoch 50/50 ...\n",
            "Training ... \n",
            "learning rate = 0.5 \n",
            " epoch 1/50 ...\n",
            "learning rate = 0.5 \n",
            " epoch 2/50 ...\n",
            "learning rate = 0.5 \n",
            " epoch 3/50 ...\n",
            "learning rate = 0.5 \n",
            " epoch 4/50 ...\n",
            "learning rate = 0.5 \n",
            " epoch 5/50 ...\n",
            "learning rate = 0.5 \n",
            " epoch 6/50 ...\n",
            "learning rate = 0.5 \n",
            " epoch 7/50 ...\n",
            "learning rate = 0.5 \n",
            " epoch 8/50 ...\n",
            "learning rate = 0.5 \n",
            " epoch 9/50 ...\n",
            "learning rate = 0.5 \n",
            " epoch 10/50 ...\n",
            "learning rate = 0.5 \n",
            " epoch 11/50 ...\n",
            "learning rate = 0.5 \n",
            " epoch 12/50 ...\n",
            "learning rate = 0.5 \n",
            " epoch 13/50 ...\n",
            "learning rate = 0.5 \n",
            " epoch 14/50 ...\n",
            "learning rate = 0.5 \n",
            " epoch 15/50 ...\n",
            "learning rate = 0.5 \n",
            " epoch 16/50 ...\n",
            "learning rate = 0.5 \n",
            " epoch 17/50 ...\n",
            "learning rate = 0.5 \n",
            " epoch 18/50 ...\n",
            "learning rate = 0.5 \n",
            " epoch 19/50 ...\n",
            "learning rate = 0.5 \n",
            " epoch 20/50 ...\n",
            "learning rate = 0.5 \n",
            " epoch 21/50 ...\n",
            "learning rate = 0.5 \n",
            " epoch 22/50 ...\n",
            "learning rate = 0.5 \n",
            " epoch 23/50 ...\n",
            "learning rate = 0.5 \n",
            " epoch 24/50 ...\n",
            "learning rate = 0.5 \n",
            " epoch 25/50 ...\n",
            "learning rate = 0.5 \n",
            " epoch 26/50 ...\n",
            "learning rate = 0.5 \n",
            " epoch 27/50 ...\n",
            "learning rate = 0.5 \n",
            " epoch 28/50 ...\n",
            "learning rate = 0.5 \n",
            " epoch 29/50 ...\n",
            "learning rate = 0.5 \n",
            " epoch 30/50 ...\n",
            "learning rate = 0.5 \n",
            " epoch 31/50 ...\n",
            "learning rate = 0.5 \n",
            " epoch 32/50 ...\n",
            "learning rate = 0.5 \n",
            " epoch 33/50 ...\n",
            "learning rate = 0.5 \n",
            " epoch 34/50 ...\n",
            "learning rate = 0.5 \n",
            " epoch 35/50 ...\n",
            "learning rate = 0.5 \n",
            " epoch 36/50 ...\n",
            "learning rate = 0.5 \n",
            " epoch 37/50 ...\n",
            "learning rate = 0.5 \n",
            " epoch 38/50 ...\n",
            "learning rate = 0.5 \n",
            " epoch 39/50 ...\n",
            "learning rate = 0.5 \n",
            " epoch 40/50 ...\n",
            "learning rate = 0.5 \n",
            " epoch 41/50 ...\n",
            "learning rate = 0.5 \n",
            " epoch 42/50 ...\n",
            "learning rate = 0.5 \n",
            " epoch 43/50 ...\n",
            "learning rate = 0.5 \n",
            " epoch 44/50 ...\n",
            "learning rate = 0.5 \n",
            " epoch 45/50 ...\n",
            "learning rate = 0.5 \n",
            " epoch 46/50 ...\n",
            "learning rate = 0.5 \n",
            " epoch 47/50 ...\n",
            "learning rate = 0.5 \n",
            " epoch 48/50 ...\n",
            "learning rate = 0.5 \n",
            " epoch 49/50 ...\n",
            "learning rate = 0.5 \n",
            " epoch 50/50 ...\n"
          ]
        }
      ]
    },
    {
      "cell_type": "code",
      "source": [
        "print(results)"
      ],
      "metadata": {
        "id": "EQgyE_u72Hl_"
      },
      "execution_count": null,
      "outputs": []
    },
    {
      "cell_type": "markdown",
      "metadata": {
        "id": "1lfzqZxFa-Eq"
      },
      "source": [
        "#Question 2 Task D."
      ]
    },
    {
      "cell_type": "code",
      "source": [
        "class Net(nn.Module):\n",
        "    def __init__(self,dropout_p):\n",
        "        super(Net, self).__init__()\n",
        "        self.conv1 = nn.Conv2d(1, 32, kernel_size=5)\n",
        "        self.conv2 = nn.Conv2d(32, 64, kernel_size=5)\n",
        "        self.fc1_dropout = nn.Dropout(p=dropout_p)\n",
        "        self.fc1 = nn.Linear(1024,256)\n",
        "        self.fc2 = nn.Linear(256,10)\n",
        "\n",
        "        self.initializer_wights()\n",
        "\n",
        "    def forward(self, x):\n",
        "        x = F.relu(F.max_pool2d(self.conv1(x), 2))\n",
        "        x = F.relu(F.max_pool2d(self.conv2(x), 2))\n",
        "        x = x.view(-1, 1024)\n",
        "        x = F.relu(self.fc1(x))\n",
        "        x = self.fc1_dropout(x)\n",
        "        x = self.fc2(x)\n",
        "        return F.log_softmax(x)\n",
        "    \n",
        "    def initializer_wights(self):\n",
        "      for m in self.modules():\n",
        "        if isinstance(m, nn.Conv2d) or isinstance(m,nn.Linear):\n",
        "          nn.init.xavier_normal_(m.weight)\n",
        "\n",
        "# x = F.relu(F.max_pool2d(self.conv2_drop(self.conv2(x)), 2))\n",
        "# x = F.dropout(x, training=self.training)"
      ],
      "metadata": {
        "id": "Bca8h5V1yC9L"
      },
      "execution_count": null,
      "outputs": []
    },
    {
      "cell_type": "code",
      "source": [
        "learning_rate = 0.1\n",
        "dropout_p = 0.3\n",
        "network = Net(dropout_p)\n",
        "optimizer = optim.SGD(network.parameters(), lr=learning_rate)"
      ],
      "metadata": {
        "id": "yFNUvIYM6vkq"
      },
      "execution_count": null,
      "outputs": []
    },
    {
      "cell_type": "code",
      "source": [
        "summary(network,(1,28,28))\n",
        "transforms = [ hl.transforms.Prune('Constant') ] # Removes Constant nodes from graph.\n",
        "\n",
        "graph = hl.build_graph(network, example_data,transforms = transforms)\n",
        "graph.theme = hl.graph.THEMES['blue'].copy()\n",
        "graph.save('CNN_Model_dropout', format='png')\n",
        "Image('CNN_Model_dropout.png')"
      ],
      "metadata": {
        "id": "7VVwLXce7C2u"
      },
      "execution_count": null,
      "outputs": []
    },
    {
      "cell_type": "code",
      "source": [
        "train_losses = []\n",
        "test_losses = []\n",
        "print(\"Training ... \")\n",
        "for epoch in range(1, n_epochs + 1):\n",
        "  print(\"epoch {}/{}----------------------------------------------------------------------\".format(epoch,n_epochs))\n",
        "  train(epoch,network)\n",
        "  test(network)"
      ],
      "metadata": {
        "id": "qPT458kU7LcL"
      },
      "execution_count": null,
      "outputs": []
    },
    {
      "cell_type": "code",
      "source": [
        "fig = plt.figure()\n",
        "plt.plot(range(1,n_epochs+1), train_losses, color='blue')\n",
        "plt.plot(range(1,n_epochs+1), test_losses, color='red')\n",
        "plt.legend(['Train Loss', 'Test Loss'], loc='upper right')\n",
        "plt.xlabel('number of training examples seen')\n",
        "plt.ylabel('negative log likelihood loss')"
      ],
      "metadata": {
        "id": "zoClo3nO7OV2"
      },
      "execution_count": null,
      "outputs": []
    }
  ]
}